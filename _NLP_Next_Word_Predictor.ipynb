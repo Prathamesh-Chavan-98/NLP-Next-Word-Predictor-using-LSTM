{
  "nbformat": 4,
  "nbformat_minor": 0,
  "metadata": {
    "colab": {
      "provenance": [],
      "gpuType": "T4",
      "authorship_tag": "ABX9TyNZj9C8cMa1ypY2Kt5K9ci0",
      "include_colab_link": true
    },
    "kernelspec": {
      "name": "python3",
      "display_name": "Python 3"
    },
    "language_info": {
      "name": "python"
    },
    "accelerator": "GPU"
  },
  "cells": [
    {
      "cell_type": "markdown",
      "metadata": {
        "id": "view-in-github",
        "colab_type": "text"
      },
      "source": [
        "<a href=\"https://colab.research.google.com/github/Prathamesh-Chavan-98/NLP-Next-Word-Predictor-using-LSTM/blob/main/_NLP_Next_Word_Predictor.ipynb\" target=\"_parent\"><img src=\"https://colab.research.google.com/assets/colab-badge.svg\" alt=\"Open In Colab\"/></a>"
      ]
    },
    {
      "cell_type": "code",
      "execution_count": null,
      "metadata": {
        "id": "FyE1r8km2MGF"
      },
      "outputs": [],
      "source": [
        "import tensorflow as tf\n",
        "from tensorflow.keras.models import Sequential\n",
        "from tensorflow.keras.layers import Embedding, LSTM, Dense\n",
        "from tensorflow.keras.preprocessing.text import Tokenizer\n",
        "from tensorflow.keras.preprocessing.sequence import pad_sequences\n",
        "import numpy as np\n",
        "import regex as re\n"
      ]
    },
    {
      "cell_type": "code",
      "source": [
        "!pip install pypdf2\n",
        "\n",
        "import tensorflow as tf\n",
        "from tensorflow.keras.models import Sequential\n",
        "from tensorflow.keras.layers import Embedding, LSTM, Dense\n",
        "from tensorflow.keras.preprocessing.text import Tokenizer\n",
        "from tensorflow.keras.preprocessing.sequence import pad_sequences\n",
        "import numpy as np\n",
        "import regex as re\n",
        "import PyPDF2 # Import PyPDF2 to read PDF files\n",
        "\n",
        "def file_to_sentence_list(file_path):\n",
        "    with open(file_path, 'rb') as file: # Open in binary read mode 'rb'\n",
        "        reader = PyPDF2.PdfReader(file)\n",
        "        text = \"\"\n",
        "        for page in reader.pages:\n",
        "            text += page.extract_text()\n",
        "\n",
        "    # Splitting the text into sentences using\n",
        "    # delimiters like '.', '?', and '!'\n",
        "    sentences = [sentence.strip() for sentence in re.split(\n",
        "        r'(?<=[.!?])\\s+', text) if sentence.strip()]\n",
        "\n",
        "    return sentences\n",
        "\n",
        "file_path = '/content/MACHINE LEARNING(R17A0534) (1).pdf'\n",
        "text_data = file_to_sentence_list(file_path)\n",
        "\n",
        "# Tokenize the text data\n",
        "tokenizer = Tokenizer()\n",
        "tokenizer.fit_on_texts(text_data)\n",
        "total_words = len(tokenizer.word_index) + 1\n",
        "\n",
        "# Tokenize the text data\n",
        "tokenizer = Tokenizer()\n",
        "tokenizer.fit_on_texts(text_data)\n",
        "total_words = len(tokenizer.word_index) + 1\n",
        "\n",
        "# Create input sequences\n",
        "input_sequences = []\n",
        "for line in text_data:\n",
        "\ttoken_list = tokenizer.texts_to_sequences([line])[0]\n",
        "\tfor i in range(1, len(token_list)):\n",
        "\t\tn_gram_sequence = token_list[:i+1]\n",
        "\t\tinput_sequences.append(n_gram_sequence)\n",
        "\n",
        "# Pad sequences and split into predictors and label\n",
        "max_sequence_len = max([len(seq) for seq in input_sequences])\n",
        "input_sequences = np.array(pad_sequences(\n",
        "\tinput_sequences, maxlen=max_sequence_len, padding='pre'))\n",
        "X, y = input_sequences[:, :-1], input_sequences[:, -1]\n",
        "\n",
        "# Convert target data to one-hot encoding\n",
        "y = tf.keras.utils.to_categorical(y, num_classes=total_words)\n"
      ],
      "metadata": {
        "colab": {
          "base_uri": "https://localhost:8080/"
        },
        "id": "rShNr4TK29Al",
        "outputId": "9114dba6-fc00-458b-ff2b-540544a8ec2b"
      },
      "execution_count": null,
      "outputs": [
        {
          "output_type": "stream",
          "name": "stdout",
          "text": [
            "Collecting pypdf2\n",
            "  Downloading pypdf2-3.0.1-py3-none-any.whl (232 kB)\n",
            "\u001b[?25l     \u001b[90m━━━━━━━━━━━━━━━━━━━━━━━━━━━━━━━━━━━━━━━━\u001b[0m \u001b[32m0.0/232.6 kB\u001b[0m \u001b[31m?\u001b[0m eta \u001b[36m-:--:--\u001b[0m\r\u001b[2K     \u001b[90m━━━━━━━━━━━━━━━━━━━━━━━━━━━━━━━━━━━━━━━━\u001b[0m \u001b[32m232.6/232.6 kB\u001b[0m \u001b[31m7.2 MB/s\u001b[0m eta \u001b[36m0:00:00\u001b[0m\n",
            "\u001b[?25hInstalling collected packages: pypdf2\n",
            "Successfully installed pypdf2-3.0.1\n"
          ]
        }
      ]
    },
    {
      "cell_type": "code",
      "source": [
        "print(X.shape)"
      ],
      "metadata": {
        "colab": {
          "base_uri": "https://localhost:8080/"
        },
        "id": "S0-BMmQc29Cw",
        "outputId": "2d707d98-d4e2-4bd9-e6f9-7fbaafb80561"
      },
      "execution_count": null,
      "outputs": [
        {
          "output_type": "stream",
          "name": "stdout",
          "text": [
            "(38542, 318)\n"
          ]
        }
      ]
    },
    {
      "cell_type": "code",
      "source": [
        "print(y.shape)"
      ],
      "metadata": {
        "colab": {
          "base_uri": "https://localhost:8080/"
        },
        "id": "juiaoe2c29HC",
        "outputId": "badae514-969f-455a-c12b-31d5a10de127"
      },
      "execution_count": null,
      "outputs": [
        {
          "output_type": "stream",
          "name": "stdout",
          "text": [
            "(38542, 4169)\n"
          ]
        }
      ]
    },
    {
      "cell_type": "code",
      "source": [
        "# Define the model\n",
        "model = Sequential()\n",
        "model.add(Embedding(total_words, 10,\n",
        "\t\t\t\t\tinput_length=max_sequence_len-1))\n",
        "model.add(LSTM(128))\n",
        "model.add(Dense(total_words, activation='softmax'))\n",
        "model.compile(loss='categorical_crossentropy',\n",
        "\t\t\toptimizer='adam', metrics=['accuracy'])\n"
      ],
      "metadata": {
        "id": "_sjxnRvY29Ix"
      },
      "execution_count": null,
      "outputs": []
    },
    {
      "cell_type": "code",
      "source": [
        "model.summary()"
      ],
      "metadata": {
        "colab": {
          "base_uri": "https://localhost:8080/"
        },
        "id": "yuV7B14429KU",
        "outputId": "ca304881-e522-46af-9ca9-b71cb0e1015e"
      },
      "execution_count": null,
      "outputs": [
        {
          "output_type": "stream",
          "name": "stdout",
          "text": [
            "Model: \"sequential\"\n",
            "_________________________________________________________________\n",
            " Layer (type)                Output Shape              Param #   \n",
            "=================================================================\n",
            " embedding (Embedding)       (None, 318, 10)           41690     \n",
            "                                                                 \n",
            " lstm (LSTM)                 (None, 128)               71168     \n",
            "                                                                 \n",
            " dense (Dense)               (None, 4169)              537801    \n",
            "                                                                 \n",
            "=================================================================\n",
            "Total params: 650659 (2.48 MB)\n",
            "Trainable params: 650659 (2.48 MB)\n",
            "Non-trainable params: 0 (0.00 Byte)\n",
            "_________________________________________________________________\n"
          ]
        }
      ]
    },
    {
      "cell_type": "code",
      "source": [
        "# Train the model\n",
        "model.fit(X, y, epochs=100, verbose=1)\n"
      ],
      "metadata": {
        "colab": {
          "base_uri": "https://localhost:8080/"
        },
        "id": "ehwGPXFI29MC",
        "outputId": "0934bfd8-1c89-4433-d70e-6af65558e574"
      },
      "execution_count": null,
      "outputs": [
        {
          "output_type": "stream",
          "name": "stdout",
          "text": [
            "Epoch 1/100\n",
            "1205/1205 [==============================] - 19s 16ms/step - loss: 4.2846 - accuracy: 0.1974\n",
            "Epoch 2/100\n",
            "1205/1205 [==============================] - 19s 15ms/step - loss: 4.1115 - accuracy: 0.2164\n",
            "Epoch 3/100\n",
            "1205/1205 [==============================] - 18s 15ms/step - loss: 3.9471 - accuracy: 0.2344\n",
            "Epoch 4/100\n",
            "1205/1205 [==============================] - 20s 17ms/step - loss: 3.7920 - accuracy: 0.2544\n",
            "Epoch 5/100\n",
            "1205/1205 [==============================] - 18s 15ms/step - loss: 3.6427 - accuracy: 0.2760\n",
            "Epoch 6/100\n",
            "1205/1205 [==============================] - 19s 16ms/step - loss: 3.5055 - accuracy: 0.2956\n",
            "Epoch 7/100\n",
            "1205/1205 [==============================] - 18s 15ms/step - loss: 3.3769 - accuracy: 0.3167\n",
            "Epoch 8/100\n",
            "1205/1205 [==============================] - 18s 15ms/step - loss: 3.2554 - accuracy: 0.3349\n",
            "Epoch 9/100\n",
            "1205/1205 [==============================] - 18s 15ms/step - loss: 3.1434 - accuracy: 0.3515\n",
            "Epoch 10/100\n",
            "1205/1205 [==============================] - 18s 15ms/step - loss: 3.0395 - accuracy: 0.3685\n",
            "Epoch 11/100\n",
            "1205/1205 [==============================] - 18s 15ms/step - loss: 2.9405 - accuracy: 0.3841\n",
            "Epoch 12/100\n",
            "1205/1205 [==============================] - 19s 16ms/step - loss: 2.8475 - accuracy: 0.4019\n",
            "Epoch 13/100\n",
            "1205/1205 [==============================] - 18s 15ms/step - loss: 2.7595 - accuracy: 0.4171\n",
            "Epoch 14/100\n",
            "1205/1205 [==============================] - 19s 16ms/step - loss: 2.6795 - accuracy: 0.4295\n",
            "Epoch 15/100\n",
            "1205/1205 [==============================] - 18s 15ms/step - loss: 2.5994 - accuracy: 0.4444\n",
            "Epoch 16/100\n",
            "1205/1205 [==============================] - 18s 15ms/step - loss: 2.5289 - accuracy: 0.4564\n",
            "Epoch 17/100\n",
            "1205/1205 [==============================] - 19s 16ms/step - loss: 2.4564 - accuracy: 0.4720\n",
            "Epoch 18/100\n",
            "1205/1205 [==============================] - 18s 15ms/step - loss: 2.3896 - accuracy: 0.4826\n",
            "Epoch 19/100\n",
            "1205/1205 [==============================] - 18s 15ms/step - loss: 2.3274 - accuracy: 0.4960\n",
            "Epoch 20/100\n",
            "1205/1205 [==============================] - 18s 15ms/step - loss: 2.2665 - accuracy: 0.5080\n",
            "Epoch 21/100\n",
            "1205/1205 [==============================] - 19s 16ms/step - loss: 2.2086 - accuracy: 0.5189\n",
            "Epoch 22/100\n",
            "1205/1205 [==============================] - 18s 15ms/step - loss: 2.1542 - accuracy: 0.5285\n",
            "Epoch 23/100\n",
            "1205/1205 [==============================] - 18s 15ms/step - loss: 2.1084 - accuracy: 0.5368\n",
            "Epoch 24/100\n",
            "1205/1205 [==============================] - 18s 15ms/step - loss: 2.2680 - accuracy: 0.5040\n",
            "Epoch 25/100\n",
            "1205/1205 [==============================] - 18s 15ms/step - loss: 2.1725 - accuracy: 0.5223\n",
            "Epoch 26/100\n",
            "1205/1205 [==============================] - 18s 15ms/step - loss: 2.0294 - accuracy: 0.5526\n",
            "Epoch 27/100\n",
            " 559/1205 [============>.................] - ETA: 9s - loss: 1.9230 - accuracy: 0.5814"
          ]
        }
      ]
    },
    {
      "cell_type": "code",
      "source": [
        "# Generate next word predictions\n",
        "seed_text = \"linear regression is a \"\n",
        "next_words = 5\n",
        "\n",
        "for _ in range(next_words):\n",
        "\ttoken_list = tokenizer.texts_to_sequences([seed_text])[0]\n",
        "\ttoken_list = pad_sequences(\n",
        "\t\t[token_list], maxlen=max_sequence_len-1, padding='pre')\n",
        "\tpredicted_probs = model.predict(token_list)\n",
        "\tpredicted_word = tokenizer.index_word[np.argmax(predicted_probs)]\n",
        "\tseed_text += \" \" + predicted_word\n",
        "\n",
        "print(\"Next predicted words:\", seed_text)\n"
      ],
      "metadata": {
        "colab": {
          "base_uri": "https://localhost:8080/"
        },
        "id": "-w1eZDva29Nu",
        "outputId": "a83a581d-20b8-4d1b-9749-4bed2f9d903e"
      },
      "execution_count": null,
      "outputs": [
        {
          "output_type": "stream",
          "name": "stdout",
          "text": [
            "1/1 [==============================] - 0s 21ms/step\n",
            "1/1 [==============================] - 0s 20ms/step\n",
            "1/1 [==============================] - 0s 19ms/step\n",
            "1/1 [==============================] - 0s 21ms/step\n",
            "1/1 [==============================] - 0s 19ms/step\n",
            "Next predicted words: linear regression is a  linear example for the dependent\n"
          ]
        }
      ]
    },
    {
      "cell_type": "code",
      "source": [],
      "metadata": {
        "id": "ZBwoaLIw29Pg"
      },
      "execution_count": null,
      "outputs": []
    },
    {
      "cell_type": "code",
      "source": [],
      "metadata": {
        "id": "12azmZ5P29S3"
      },
      "execution_count": null,
      "outputs": []
    },
    {
      "cell_type": "code",
      "source": [],
      "metadata": {
        "id": "Tc02lrze29VJ"
      },
      "execution_count": null,
      "outputs": []
    },
    {
      "cell_type": "code",
      "source": [],
      "metadata": {
        "id": "9DkqydCd29XG"
      },
      "execution_count": null,
      "outputs": []
    },
    {
      "cell_type": "code",
      "source": [],
      "metadata": {
        "id": "QkPhYcao29aD"
      },
      "execution_count": null,
      "outputs": []
    }
  ]
}